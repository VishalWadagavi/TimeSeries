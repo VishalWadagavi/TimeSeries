{
 "cells": [
  {
   "cell_type": "markdown",
   "metadata": {},
   "source": [
    "# Perrin_Freres_Sales_Forecasting"
   ]
  },
  {
   "cell_type": "markdown",
   "metadata": {},
   "source": [
    "Dataset: https://www.kaggle.com/galibce003/perrin-freres-monthly-champagne-sales"
   ]
  },
  {
   "cell_type": "code",
   "execution_count": 43,
   "metadata": {},
   "outputs": [],
   "source": [
    "#importing libraries.\n",
    "import numpy as np\n",
    "import pandas as pd\n",
    "import matplotlib.pyplot as plt\n",
    "import seaborn as sns\n",
    "import warnings\n",
    "warnings.filterwarnings('ignore')"
   ]
  },
  {
   "cell_type": "code",
   "execution_count": 2,
   "metadata": {},
   "outputs": [
    {
     "data": {
      "text/html": [
       "<div>\n",
       "<style scoped>\n",
       "    .dataframe tbody tr th:only-of-type {\n",
       "        vertical-align: middle;\n",
       "    }\n",
       "\n",
       "    .dataframe tbody tr th {\n",
       "        vertical-align: top;\n",
       "    }\n",
       "\n",
       "    .dataframe thead th {\n",
       "        text-align: right;\n",
       "    }\n",
       "</style>\n",
       "<table border=\"1\" class=\"dataframe\">\n",
       "  <thead>\n",
       "    <tr style=\"text-align: right;\">\n",
       "      <th></th>\n",
       "      <th>Month</th>\n",
       "      <th>sales</th>\n",
       "    </tr>\n",
       "  </thead>\n",
       "  <tbody>\n",
       "    <tr>\n",
       "      <td>0</td>\n",
       "      <td>1964-01</td>\n",
       "      <td>2815.0</td>\n",
       "    </tr>\n",
       "    <tr>\n",
       "      <td>1</td>\n",
       "      <td>1964-02</td>\n",
       "      <td>2672.0</td>\n",
       "    </tr>\n",
       "    <tr>\n",
       "      <td>2</td>\n",
       "      <td>1964-03</td>\n",
       "      <td>2755.0</td>\n",
       "    </tr>\n",
       "    <tr>\n",
       "      <td>3</td>\n",
       "      <td>1964-04</td>\n",
       "      <td>2721.0</td>\n",
       "    </tr>\n",
       "    <tr>\n",
       "      <td>4</td>\n",
       "      <td>1964-05</td>\n",
       "      <td>2946.0</td>\n",
       "    </tr>\n",
       "  </tbody>\n",
       "</table>\n",
       "</div>"
      ],
      "text/plain": [
       "     Month   sales\n",
       "0  1964-01  2815.0\n",
       "1  1964-02  2672.0\n",
       "2  1964-03  2755.0\n",
       "3  1964-04  2721.0\n",
       "4  1964-05  2946.0"
      ]
     },
     "execution_count": 2,
     "metadata": {},
     "output_type": "execute_result"
    }
   ],
   "source": [
    "#importing data, renaming column.\n",
    "df=pd.read_csv('Perrin Freres monthly champagne sales millions.csv',parse_dates=True)\n",
    "df.rename(columns={'Perrin Freres monthly champagne sales millions ?64-?72':'sales'},inplace=True)\n",
    "df.head()"
   ]
  },
  {
   "cell_type": "code",
   "execution_count": 3,
   "metadata": {
    "scrolled": true
   },
   "outputs": [
    {
     "data": {
      "text/plain": [
       "Month    1\n",
       "sales    2\n",
       "dtype: int64"
      ]
     },
     "execution_count": 3,
     "metadata": {},
     "output_type": "execute_result"
    }
   ],
   "source": [
    "#identifying null values.\n",
    "df.isna().sum()"
   ]
  },
  {
   "cell_type": "markdown",
   "metadata": {},
   "source": [
    "- Data is having very minimal null values.   \n",
    "- Rows could be dropped where null values are present."
   ]
  },
  {
   "cell_type": "code",
   "execution_count": 4,
   "metadata": {},
   "outputs": [
    {
     "data": {
      "text/plain": [
       "Month    0\n",
       "sales    0\n",
       "dtype: int64"
      ]
     },
     "execution_count": 4,
     "metadata": {},
     "output_type": "execute_result"
    }
   ],
   "source": [
    "#Dropping null values.\n",
    "df.dropna(inplace=True)\n",
    "df.isna().sum()"
   ]
  },
  {
   "cell_type": "markdown",
   "metadata": {},
   "source": [
    "- Converting month coulmn data type to datetime "
   ]
  },
  {
   "cell_type": "code",
   "execution_count": 5,
   "metadata": {},
   "outputs": [
    {
     "data": {
      "text/html": [
       "<div>\n",
       "<style scoped>\n",
       "    .dataframe tbody tr th:only-of-type {\n",
       "        vertical-align: middle;\n",
       "    }\n",
       "\n",
       "    .dataframe tbody tr th {\n",
       "        vertical-align: top;\n",
       "    }\n",
       "\n",
       "    .dataframe thead th {\n",
       "        text-align: right;\n",
       "    }\n",
       "</style>\n",
       "<table border=\"1\" class=\"dataframe\">\n",
       "  <thead>\n",
       "    <tr style=\"text-align: right;\">\n",
       "      <th></th>\n",
       "      <th>sales</th>\n",
       "    </tr>\n",
       "    <tr>\n",
       "      <th>Month</th>\n",
       "      <th></th>\n",
       "    </tr>\n",
       "  </thead>\n",
       "  <tbody>\n",
       "    <tr>\n",
       "      <td>1964-01-01</td>\n",
       "      <td>2815.0</td>\n",
       "    </tr>\n",
       "    <tr>\n",
       "      <td>1964-02-01</td>\n",
       "      <td>2672.0</td>\n",
       "    </tr>\n",
       "    <tr>\n",
       "      <td>1964-03-01</td>\n",
       "      <td>2755.0</td>\n",
       "    </tr>\n",
       "    <tr>\n",
       "      <td>1964-04-01</td>\n",
       "      <td>2721.0</td>\n",
       "    </tr>\n",
       "    <tr>\n",
       "      <td>1964-05-01</td>\n",
       "      <td>2946.0</td>\n",
       "    </tr>\n",
       "  </tbody>\n",
       "</table>\n",
       "</div>"
      ],
      "text/plain": [
       "             sales\n",
       "Month             \n",
       "1964-01-01  2815.0\n",
       "1964-02-01  2672.0\n",
       "1964-03-01  2755.0\n",
       "1964-04-01  2721.0\n",
       "1964-05-01  2946.0"
      ]
     },
     "execution_count": 5,
     "metadata": {},
     "output_type": "execute_result"
    }
   ],
   "source": [
    "#Resetting index to month column.\n",
    "df.Month=pd.to_datetime(df.Month)\n",
    "df=df.set_index('Month')\n",
    "df.head()"
   ]
  },
  {
   "cell_type": "code",
   "execution_count": 258,
   "metadata": {
    "scrolled": true
   },
   "outputs": [
    {
     "data": {
      "text/plain": [
       "[<matplotlib.lines.Line2D at 0x20f67733d48>]"
      ]
     },
     "execution_count": 258,
     "metadata": {},
     "output_type": "execute_result"
    },
    {
     "data": {
      "image/png": "[encoded data removed]",
      "text/plain": [
       "<Figure size 1440x360 with 1 Axes>"
      ]
     },
     "metadata": {
      "needs_background": "light"
     },
     "output_type": "display_data"
    }
   ],
   "source": [
    "#Plotting sales column.\n",
    "plt.figure(figsize=(20,5))\n",
    "plt.plot(df.sales)"
   ]
  },
  {
   "cell_type": "markdown",
   "metadata": {},
   "source": [
    "- By looking at the plot we can observe that there is Trend and Seasonality in the data."
   ]
  },
  {
   "cell_type": "markdown",
   "metadata": {},
   "source": [
    "- Trend, Seasonality and random data could be plotted using seasonal decompose."
   ]
  },
  {
   "cell_type": "code",
   "execution_count": 7,
   "metadata": {},
   "outputs": [
    {
     "data": {
      "image/png": "[encoded data removed]",
      "text/plain": [
       "<Figure size 1440x1440 with 4 Axes>"
      ]
     },
     "metadata": {
      "needs_background": "light"
     },
     "output_type": "display_data"
    }
   ],
   "source": [
    "#Seasonal decomposing\n",
    "from statsmodels.tsa.seasonal import seasonal_decompose\n",
    "results=seasonal_decompose(df['sales'])\n",
    "results.plot().set_size_inches(20,20);"
   ]
  },
  {
   "cell_type": "markdown",
   "metadata": {},
   "source": [
    "- Statistical models such as ARIMA and SARIMAX could be applied to only stationary data.    \n",
    "- In order to check whether data is stationary or not, Agumentated Dicky Fuller test could be used.   \n",
    "- If data is not stationary differencing technique need to be applied."
   ]
  },
  {
   "cell_type": "markdown",
   "metadata": {},
   "source": [
    "#### Agumented Dicky Fuller test\n",
    "- adfuller test gives some statistical data with p- value.\n",
    "- If p-value is less than the critical value (0.05) then null hypothesis will be rjected otherwise can not be rejected.\n",
    "\n",
    "    Hypothesis Definition:\n",
    "- H0 : Null Hypothesis states there is the presence of a unit root. In other words, Stationarity doesn't exists.\n",
    "- HA : Alternate Hypothesis states there is no unit root. In other words, Stationarity exists. "
   ]
  },
  {
   "cell_type": "code",
   "execution_count": 260,
   "metadata": {
    "scrolled": true
   },
   "outputs": [
    {
     "name": "stdout",
     "output_type": "stream",
     "text": [
      "Test_stats: -1.8335930563276195 \n",
      "p-value:  0.3639157716602467 \n",
      "lags:  11 \n",
      "obs:  93 \n",
      "critical_values:  {'1%': -3.502704609582561, '5%': -2.8931578098779522, '10%': -2.583636712914788}\n"
     ]
    }
   ],
   "source": [
    "#Agumented Dicky Fuller test\n",
    "from statsmodels.tsa.api import adfuller,ARIMA,SARIMAX\n",
    "def adf_test(df):\n",
    "    data=adfuller(df)[:-1]\n",
    "    Test_stats,p_value,lags,obs,critical_values=data\n",
    "    print('Test_stats:',Test_stats,\n",
    "          '\\np-value: ',p_value,\n",
    "          '\\nlags: ',lags,\n",
    "          '\\nobs: ',obs,\n",
    "          '\\ncritical_values: ',critical_values)\n",
    "adf_test(df)"
   ]
  },
  {
   "cell_type": "markdown",
   "metadata": {},
   "source": [
    "- p-value is greater than 0.05 so data is not stationary"
   ]
  },
  {
   "cell_type": "markdown",
   "metadata": {},
   "source": [
    "- Data contains seasonality and non-stationarity. \n",
    "- Need to select auto correlation, differencing and moving average values.\n",
    "- Using auto_arima library p,d,q and P,D,Q values could be iterated to get best values based on minimum AIC value."
   ]
  },
  {
   "cell_type": "code",
   "execution_count": 264,
   "metadata": {
    "scrolled": false
   },
   "outputs": [
    {
     "name": "stdout",
     "output_type": "stream",
     "text": [
      "Performing stepwise search to minimize aic\n",
      " ARIMA(2,0,2)(1,1,1)[12] intercept   : AIC=1113.080, Time=2.14 sec\n",
      " ARIMA(0,0,0)(0,1,0)[12] intercept   : AIC=1103.707, Time=0.02 sec\n",
      " ARIMA(1,0,0)(1,1,0)[12] intercept   : AIC=1106.797, Time=0.55 sec\n",
      " ARIMA(0,0,1)(0,1,1)[12] intercept   : AIC=1106.812, Time=0.12 sec\n",
      " ARIMA(0,0,0)(0,1,0)[12]             : AIC=1111.115, Time=0.01 sec\n",
      " ARIMA(0,0,0)(1,1,0)[12] intercept   : AIC=1105.614, Time=0.08 sec\n",
      " ARIMA(0,0,0)(0,1,1)[12] intercept   : AIC=1105.621, Time=0.08 sec\n",
      " ARIMA(0,0,0)(1,1,1)[12] intercept   : AIC=1107.614, Time=0.13 sec\n",
      " ARIMA(1,0,0)(0,1,0)[12] intercept   : AIC=1104.799, Time=0.03 sec\n",
      " ARIMA(0,0,1)(0,1,0)[12] intercept   : AIC=1104.814, Time=0.02 sec\n",
      " ARIMA(1,0,1)(0,1,0)[12] intercept   : AIC=1106.872, Time=0.06 sec\n",
      "\n",
      "Best model:  ARIMA(0,0,0)(0,1,0)[12] intercept\n",
      "Total fit time: 3.264 seconds\n"
     ]
    },
    {
     "data": {
      "text/html": [
       "<table class=\"simpletable\">\n",
       "<caption>SARIMAX Results</caption>\n",
       "<tr>\n",
       "  <th>Dep. Variable:</th>             <td>y</td>          <th>  No. Observations:  </th>    <td>80</td>   \n",
       "</tr>\n",
       "<tr>\n",
       "  <th>Model:</th>           <td>SARIMAX(0, 1, 0, 12)</td> <th>  Log Likelihood     </th> <td>-549.854</td>\n",
       "</tr>\n",
       "<tr>\n",
       "  <th>Date:</th>              <td>Mon, 07 Mar 2022</td>   <th>  AIC                </th> <td>1103.707</td>\n",
       "</tr>\n",
       "<tr>\n",
       "  <th>Time:</th>                  <td>18:13:06</td>       <th>  BIC                </th> <td>1108.146</td>\n",
       "</tr>\n",
       "<tr>\n",
       "  <th>Sample:</th>                    <td>0</td>          <th>  HQIC               </th> <td>1105.466</td>\n",
       "</tr>\n",
       "<tr>\n",
       "  <th></th>                         <td> - 80</td>        <th>                     </th>     <td> </td>   \n",
       "</tr>\n",
       "<tr>\n",
       "  <th>Covariance Type:</th>          <td>opg</td>         <th>                     </th>     <td> </td>   \n",
       "</tr>\n",
       "</table>\n",
       "<table class=\"simpletable\">\n",
       "<tr>\n",
       "      <td></td>         <th>coef</th>     <th>std err</th>      <th>z</th>      <th>P>|z|</th>  <th>[0.025</th>    <th>0.975]</th>  \n",
       "</tr>\n",
       "<tr>\n",
       "  <th>intercept</th> <td>  302.8088</td> <td>   95.949</td> <td>    3.156</td> <td> 0.002</td> <td>  114.752</td> <td>  490.865</td>\n",
       "</tr>\n",
       "<tr>\n",
       "  <th>sigma2</th>    <td>  6.18e+05</td> <td> 8.05e+04</td> <td>    7.677</td> <td> 0.000</td> <td>  4.6e+05</td> <td> 7.76e+05</td>\n",
       "</tr>\n",
       "</table>\n",
       "<table class=\"simpletable\">\n",
       "<tr>\n",
       "  <th>Ljung-Box (L1) (Q):</th>     <td>1.90</td> <th>  Jarque-Bera (JB):  </th> <td>6.98</td> \n",
       "</tr>\n",
       "<tr>\n",
       "  <th>Prob(Q):</th>                <td>0.17</td> <th>  Prob(JB):          </th> <td>0.03</td> \n",
       "</tr>\n",
       "<tr>\n",
       "  <th>Heteroskedasticity (H):</th> <td>5.22</td> <th>  Skew:              </th> <td>-0.21</td>\n",
       "</tr>\n",
       "<tr>\n",
       "  <th>Prob(H) (two-sided):</th>    <td>0.00</td> <th>  Kurtosis:          </th> <td>4.51</td> \n",
       "</tr>\n",
       "</table><br/><br/>Warnings:<br/>[1] Covariance matrix calculated using the outer product of gradients (complex-step)."
      ],
      "text/plain": [
       "<class 'statsmodels.iolib.summary.Summary'>\n",
       "\"\"\"\n",
       "                                SARIMAX Results                                 \n",
       "================================================================================\n",
       "Dep. Variable:                        y   No. Observations:                   80\n",
       "Model:             SARIMAX(0, 1, 0, 12)   Log Likelihood                -549.854\n",
       "Date:                  Mon, 07 Mar 2022   AIC                           1103.707\n",
       "Time:                          18:13:06   BIC                           1108.146\n",
       "Sample:                               0   HQIC                          1105.466\n",
       "                                   - 80                                         \n",
       "Covariance Type:                    opg                                         \n",
       "==============================================================================\n",
       "                 coef    std err          z      P>|z|      [0.025      0.975]\n",
       "------------------------------------------------------------------------------\n",
       "intercept    302.8088     95.949      3.156      0.002     114.752     490.865\n",
       "sigma2       6.18e+05   8.05e+04      7.677      0.000     4.6e+05    7.76e+05\n",
       "===================================================================================\n",
       "Ljung-Box (L1) (Q):                   1.90   Jarque-Bera (JB):                 6.98\n",
       "Prob(Q):                              0.17   Prob(JB):                         0.03\n",
       "Heteroskedasticity (H):               5.22   Skew:                            -0.21\n",
       "Prob(H) (two-sided):                  0.00   Kurtosis:                         4.51\n",
       "===================================================================================\n",
       "\n",
       "Warnings:\n",
       "[1] Covariance matrix calculated using the outer product of gradients (complex-step).\n",
       "\"\"\""
      ]
     },
     "execution_count": 264,
     "metadata": {},
     "output_type": "execute_result"
    }
   ],
   "source": [
    "#auto_arima to find out the p,d and q values.\n",
    "from pmdarima import auto_arima\n",
    "arima=auto_arima(train['sales'],trace=True,start_p=2,d=None,start_q=2,max_p=5,max_d=2,max_q=5,\n",
    "                start_P=1,D=None,start_Q=1,max_P=2,max_D=2,max_Q=2,max_order=5,m=12)\n",
    "arima.summary()"
   ]
  },
  {
   "cell_type": "code",
   "execution_count": 95,
   "metadata": {},
   "outputs": [],
   "source": [
    "#Splitting data into train and test \n",
    "train=df[:80]\n",
    "test=df[70:]"
   ]
  },
  {
   "cell_type": "code",
   "execution_count": 267,
   "metadata": {},
   "outputs": [
    {
     "data": {
      "text/html": [
       "<table class=\"simpletable\">\n",
       "<caption>SARIMAX Results</caption>\n",
       "<tr>\n",
       "  <th>Dep. Variable:</th>          <td>sales</td>       <th>  No. Observations:  </th>    <td>80</td>   \n",
       "</tr>\n",
       "<tr>\n",
       "  <th>Model:</th>           <td>ARIMA(0, 1, 0, 12)</td> <th>  Log Likelihood     </th> <td>-554.557</td>\n",
       "</tr>\n",
       "<tr>\n",
       "  <th>Date:</th>             <td>Mon, 07 Mar 2022</td>  <th>  AIC                </th> <td>1111.115</td>\n",
       "</tr>\n",
       "<tr>\n",
       "  <th>Time:</th>                 <td>18:13:53</td>      <th>  BIC                </th> <td>1113.334</td>\n",
       "</tr>\n",
       "<tr>\n",
       "  <th>Sample:</th>              <td>01-01-1964</td>     <th>  HQIC               </th> <td>1111.994</td>\n",
       "</tr>\n",
       "<tr>\n",
       "  <th></th>                    <td>- 08-01-1970</td>    <th>                     </th>     <td> </td>   \n",
       "</tr>\n",
       "<tr>\n",
       "  <th>Covariance Type:</th>         <td>opg</td>        <th>                     </th>     <td> </td>   \n",
       "</tr>\n",
       "</table>\n",
       "<table class=\"simpletable\">\n",
       "<tr>\n",
       "     <td></td>       <th>coef</th>     <th>std err</th>      <th>z</th>      <th>P>|z|</th>  <th>[0.025</th>    <th>0.975]</th>  \n",
       "</tr>\n",
       "<tr>\n",
       "  <th>sigma2</th> <td>  7.08e+05</td> <td> 1.01e+05</td> <td>    6.996</td> <td> 0.000</td> <td>  5.1e+05</td> <td> 9.06e+05</td>\n",
       "</tr>\n",
       "</table>\n",
       "<table class=\"simpletable\">\n",
       "<tr>\n",
       "  <th>Ljung-Box (L1) (Q):</th>     <td>1.90</td> <th>  Jarque-Bera (JB):  </th> <td>6.98</td> \n",
       "</tr>\n",
       "<tr>\n",
       "  <th>Prob(Q):</th>                <td>0.17</td> <th>  Prob(JB):          </th> <td>0.03</td> \n",
       "</tr>\n",
       "<tr>\n",
       "  <th>Heteroskedasticity (H):</th> <td>2.81</td> <th>  Skew:              </th> <td>-0.21</td>\n",
       "</tr>\n",
       "<tr>\n",
       "  <th>Prob(H) (two-sided):</th>    <td>0.02</td> <th>  Kurtosis:          </th> <td>4.51</td> \n",
       "</tr>\n",
       "</table><br/><br/>Warnings:<br/>[1] Covariance matrix calculated using the outer product of gradients (complex-step)."
      ],
      "text/plain": [
       "<class 'statsmodels.iolib.summary.Summary'>\n",
       "\"\"\"\n",
       "                               SARIMAX Results                                \n",
       "==============================================================================\n",
       "Dep. Variable:                  sales   No. Observations:                   80\n",
       "Model:             ARIMA(0, 1, 0, 12)   Log Likelihood                -554.557\n",
       "Date:                Mon, 07 Mar 2022   AIC                           1111.115\n",
       "Time:                        18:13:53   BIC                           1113.334\n",
       "Sample:                    01-01-1964   HQIC                          1111.994\n",
       "                         - 08-01-1970                                         \n",
       "Covariance Type:                  opg                                         \n",
       "==============================================================================\n",
       "                 coef    std err          z      P>|z|      [0.025      0.975]\n",
       "------------------------------------------------------------------------------\n",
       "sigma2       7.08e+05   1.01e+05      6.996      0.000     5.1e+05    9.06e+05\n",
       "===================================================================================\n",
       "Ljung-Box (L1) (Q):                   1.90   Jarque-Bera (JB):                 6.98\n",
       "Prob(Q):                              0.17   Prob(JB):                         0.03\n",
       "Heteroskedasticity (H):               2.81   Skew:                            -0.21\n",
       "Prob(H) (two-sided):                  0.02   Kurtosis:                         4.51\n",
       "===================================================================================\n",
       "\n",
       "Warnings:\n",
       "[1] Covariance matrix calculated using the outer product of gradients (complex-step).\n",
       "\"\"\""
      ]
     },
     "execution_count": 267,
     "metadata": {},
     "output_type": "execute_result"
    }
   ],
   "source": [
    "#Building SARIMAX model based on the selected values.\n",
    "model=ARIMA(train['sales'],order=(0,0,0),seasonal_order=(0,1,0,12))\n",
    "model=model.fit()\n",
    "model.summary()"
   ]
  },
  {
   "cell_type": "markdown",
   "metadata": {},
   "source": [
    "- All the features in the fitted equation has p-value less than the critical values"
   ]
  },
  {
   "cell_type": "code",
   "execution_count": 269,
   "metadata": {},
   "outputs": [
    {
     "data": {
      "text/plain": [
       "<matplotlib.legend.Legend at 0x20f71a66c48>"
      ]
     },
     "execution_count": 269,
     "metadata": {},
     "output_type": "execute_result"
    },
    {
     "data": {
      "image/png": "[encoded data removed]",
      "text/plain": [
       "<Figure size 432x288 with 1 Axes>"
      ]
     },
     "metadata": {
      "needs_background": "light"
     },
     "output_type": "display_data"
    }
   ],
   "source": [
    "#Plotting train, test and predicted data\n",
    "pred=model.predict(start=70,end=104)\n",
    "plt.plot(pred)\n",
    "plt.plot(train)\n",
    "plt.plot(test)\n",
    "plt.legend(['pred','train','test'])"
   ]
  },
  {
   "cell_type": "markdown",
   "metadata": {},
   "source": [
    "- We can obsevre there is similarity in the pattern of test and predicted values."
   ]
  },
  {
   "cell_type": "code",
   "execution_count": 271,
   "metadata": {},
   "outputs": [
    {
     "data": {
      "text/html": [
       "<div>\n",
       "<style scoped>\n",
       "    .dataframe tbody tr th:only-of-type {\n",
       "        vertical-align: middle;\n",
       "    }\n",
       "\n",
       "    .dataframe tbody tr th {\n",
       "        vertical-align: top;\n",
       "    }\n",
       "\n",
       "    .dataframe thead th {\n",
       "        text-align: right;\n",
       "    }\n",
       "</style>\n",
       "<table border=\"1\" class=\"dataframe\">\n",
       "  <thead>\n",
       "    <tr style=\"text-align: right;\">\n",
       "      <th></th>\n",
       "      <th>predicted_mean</th>\n",
       "      <th>sales</th>\n",
       "    </tr>\n",
       "  </thead>\n",
       "  <tbody>\n",
       "    <tr>\n",
       "      <td>1969-11-01</td>\n",
       "      <td>9858.0</td>\n",
       "      <td>10803.0</td>\n",
       "    </tr>\n",
       "    <tr>\n",
       "      <td>1969-12-01</td>\n",
       "      <td>11331.0</td>\n",
       "      <td>13916.0</td>\n",
       "    </tr>\n",
       "    <tr>\n",
       "      <td>1970-01-01</td>\n",
       "      <td>4016.0</td>\n",
       "      <td>2639.0</td>\n",
       "    </tr>\n",
       "    <tr>\n",
       "      <td>1970-02-01</td>\n",
       "      <td>3957.0</td>\n",
       "      <td>2899.0</td>\n",
       "    </tr>\n",
       "    <tr>\n",
       "      <td>1970-03-01</td>\n",
       "      <td>4510.0</td>\n",
       "      <td>3370.0</td>\n",
       "    </tr>\n",
       "    <tr>\n",
       "      <td>1970-04-01</td>\n",
       "      <td>4276.0</td>\n",
       "      <td>3740.0</td>\n",
       "    </tr>\n",
       "    <tr>\n",
       "      <td>1970-05-01</td>\n",
       "      <td>4968.0</td>\n",
       "      <td>2927.0</td>\n",
       "    </tr>\n",
       "    <tr>\n",
       "      <td>1970-06-01</td>\n",
       "      <td>4677.0</td>\n",
       "      <td>3986.0</td>\n",
       "    </tr>\n",
       "    <tr>\n",
       "      <td>1970-07-01</td>\n",
       "      <td>3523.0</td>\n",
       "      <td>4217.0</td>\n",
       "    </tr>\n",
       "    <tr>\n",
       "      <td>1970-08-01</td>\n",
       "      <td>1821.0</td>\n",
       "      <td>1738.0</td>\n",
       "    </tr>\n",
       "  </tbody>\n",
       "</table>\n",
       "</div>"
      ],
      "text/plain": [
       "            predicted_mean    sales\n",
       "1969-11-01          9858.0  10803.0\n",
       "1969-12-01         11331.0  13916.0\n",
       "1970-01-01          4016.0   2639.0\n",
       "1970-02-01          3957.0   2899.0\n",
       "1970-03-01          4510.0   3370.0\n",
       "1970-04-01          4276.0   3740.0\n",
       "1970-05-01          4968.0   2927.0\n",
       "1970-06-01          4677.0   3986.0\n",
       "1970-07-01          3523.0   4217.0\n",
       "1970-08-01          1821.0   1738.0"
      ]
     },
     "execution_count": 271,
     "metadata": {},
     "output_type": "execute_result"
    }
   ],
   "source": [
    "#Comparison between test and predicted.\n",
    "df_pred=pd.concat([pred,test],axis=1)\n",
    "df_pred.head(10)"
   ]
  },
  {
   "cell_type": "markdown",
   "metadata": {},
   "source": [
    "#### Building deeplearning model."
   ]
  },
  {
   "cell_type": "code",
   "execution_count": 272,
   "metadata": {},
   "outputs": [],
   "source": [
    "#importing libraries.\n",
    "import tensorflow as tf\n",
    "from tensorflow.keras.models import Sequential\n",
    "from tensorflow.keras.layers import LSTM,Dense\n",
    "from keras.preprocessing.sequence import TimeseriesGenerator"
   ]
  },
  {
   "cell_type": "markdown",
   "metadata": {},
   "source": [
    "- For deeplearning model dependent and independent data need to be supplied as input.\n",
    "- Previous 12 values will be used as independent features for predicting next (13th as dependent) values.\n",
    "- To generate these sequence TimeseriesGenerator module could be used."
   ]
  },
  {
   "cell_type": "code",
   "execution_count": 276,
   "metadata": {},
   "outputs": [
    {
     "name": "stdout",
     "output_type": "stream",
     "text": [
      "Independent:  [[2815. 2672. 2755. 2721. 2946. 3036. 2282. 2212. 2922. 4301. 5764. 7312.]]\n",
      "Dependent:  [2541.]\n",
      "Independent:  [[2672. 2755. 2721. 2946. 3036. 2282. 2212. 2922. 4301. 5764. 7312. 2541.]]\n",
      "Dependent:  [2475.]\n"
     ]
    }
   ],
   "source": [
    "#TimeseriesGenerator\n",
    "train_g=TimeseriesGenerator(train.sales,train.sales,length=12,batch_size=1)\n",
    "print('Independent: ',train_g[0][0])\n",
    "print('Dependent: ',train_g[0][1])\n",
    "print('Independent: ',train_g[1][0])\n",
    "print('Dependent: ',train_g[1][1])"
   ]
  },
  {
   "cell_type": "code",
   "execution_count": 278,
   "metadata": {},
   "outputs": [
    {
     "name": "stdout",
     "output_type": "stream",
     "text": [
      "Model: \"sequential_17\"\n",
      "_________________________________________________________________\n",
      " Layer (type)                Output Shape              Param #   \n",
      "=================================================================\n",
      " lstm_16 (LSTM)              (None, 100)               40800     \n",
      "                                                                 \n",
      " dense_15 (Dense)            (None, 1)                 101       \n",
      "                                                                 \n",
      "=================================================================\n",
      "Total params: 40,901\n",
      "Trainable params: 40,901\n",
      "Non-trainable params: 0\n",
      "_________________________________________________________________\n"
     ]
    }
   ],
   "source": [
    "#Model definition\n",
    "input_shape=(12,1)\n",
    "model=Sequential()\n",
    "model.add(LSTM(100,activation='relu',input_shape=input_shape))\n",
    "model.add(Dense(1))\n",
    "\n",
    "#Model compilation\n",
    "model.compile(optimizer='adam',loss='mse')\n",
    "\n",
    "#Model Summary\n",
    "model.build(input_shape)\n",
    "model.summary()"
   ]
  },
  {
   "cell_type": "code",
   "execution_count": 279,
   "metadata": {
    "scrolled": true
   },
   "outputs": [
    {
     "name": "stdout",
     "output_type": "stream",
     "text": [
      "Epoch 1/100\n",
      "68/68 [==============================] - 3s 5ms/step - loss: 20773238.0000\n",
      "Epoch 2/100\n",
      "68/68 [==============================] - 0s 4ms/step - loss: 5753161.0000\n",
      "Epoch 3/100\n",
      "68/68 [==============================] - 0s 5ms/step - loss: 4224130.5000\n",
      "Epoch 4/100\n",
      "68/68 [==============================] - 0s 5ms/step - loss: 5264554.0000\n",
      "Epoch 5/100\n",
      "68/68 [==============================] - 0s 6ms/step - loss: 4153415.5000\n",
      "Epoch 6/100\n",
      "68/68 [==============================] - 0s 5ms/step - loss: 5252286.5000\n",
      "Epoch 7/100\n",
      "68/68 [==============================] - 0s 6ms/step - loss: 2573749.5000\n",
      "Epoch 8/100\n",
      "68/68 [==============================] - 0s 5ms/step - loss: 3600640.5000\n",
      "Epoch 9/100\n",
      "68/68 [==============================] - 0s 4ms/step - loss: 3282431.2500\n",
      "Epoch 10/100\n",
      "68/68 [==============================] - 0s 5ms/step - loss: 3217573.7500\n",
      "Epoch 11/100\n",
      "68/68 [==============================] - 0s 5ms/step - loss: 2252660.5000\n",
      "Epoch 12/100\n",
      "68/68 [==============================] - 0s 4ms/step - loss: 2005364.5000\n",
      "Epoch 13/100\n",
      "68/68 [==============================] - 0s 4ms/step - loss: 2208566.0000\n",
      "Epoch 14/100\n",
      "68/68 [==============================] - 0s 4ms/step - loss: 1604674.8750\n",
      "Epoch 15/100\n",
      "68/68 [==============================] - 0s 4ms/step - loss: 1549710.2500\n",
      "Epoch 16/100\n",
      "68/68 [==============================] - 0s 5ms/step - loss: 1531465.2500\n",
      "Epoch 17/100\n",
      "68/68 [==============================] - 0s 5ms/step - loss: 1319504.7500\n",
      "Epoch 18/100\n",
      "68/68 [==============================] - 0s 5ms/step - loss: 2876537.2500\n",
      "Epoch 19/100\n",
      "68/68 [==============================] - 0s 4ms/step - loss: 2493206.5000\n",
      "Epoch 20/100\n",
      "68/68 [==============================] - 0s 5ms/step - loss: 4089621.7500\n",
      "Epoch 21/100\n",
      "68/68 [==============================] - 0s 5ms/step - loss: 4200937.0000\n",
      "Epoch 22/100\n",
      "68/68 [==============================] - 0s 5ms/step - loss: 4769444.5000\n",
      "Epoch 23/100\n",
      "68/68 [==============================] - 0s 5ms/step - loss: 4481772.5000\n",
      "Epoch 24/100\n",
      "68/68 [==============================] - 0s 5ms/step - loss: 3858151.5000\n",
      "Epoch 25/100\n",
      "68/68 [==============================] - 0s 5ms/step - loss: 4508516.0000\n",
      "Epoch 26/100\n",
      "68/68 [==============================] - 0s 5ms/step - loss: 5338197.0000\n",
      "Epoch 27/100\n",
      "68/68 [==============================] - 0s 5ms/step - loss: 4933352.5000\n",
      "Epoch 28/100\n",
      "68/68 [==============================] - 0s 5ms/step - loss: 4139387.7500\n",
      "Epoch 29/100\n",
      "68/68 [==============================] - 0s 5ms/step - loss: 4067633.0000\n",
      "Epoch 30/100\n",
      "68/68 [==============================] - 0s 5ms/step - loss: 3452649.2500\n",
      "Epoch 31/100\n",
      "68/68 [==============================] - 0s 5ms/step - loss: 2743277.7500\n",
      "Epoch 32/100\n",
      "68/68 [==============================] - 0s 5ms/step - loss: 2518538.0000\n",
      "Epoch 33/100\n",
      "68/68 [==============================] - 0s 5ms/step - loss: 1333385.6250\n",
      "Epoch 34/100\n",
      "68/68 [==============================] - 0s 5ms/step - loss: 3017566.0000\n",
      "Epoch 35/100\n",
      "68/68 [==============================] - 0s 5ms/step - loss: 1950770.8750\n",
      "Epoch 36/100\n",
      "68/68 [==============================] - 0s 5ms/step - loss: 1774635.7500\n",
      "Epoch 37/100\n",
      "68/68 [==============================] - 0s 4ms/step - loss: 1069946.1250\n",
      "Epoch 38/100\n",
      "68/68 [==============================] - 0s 6ms/step - loss: 845298.8125\n",
      "Epoch 39/100\n",
      "68/68 [==============================] - 0s 5ms/step - loss: 1189831.2500\n",
      "Epoch 40/100\n",
      "68/68 [==============================] - 0s 5ms/step - loss: 1160043.3750\n",
      "Epoch 41/100\n",
      "68/68 [==============================] - 0s 5ms/step - loss: 742993.3125\n",
      "Epoch 42/100\n",
      "68/68 [==============================] - 0s 5ms/step - loss: 786842.5000\n",
      "Epoch 43/100\n",
      "68/68 [==============================] - 0s 5ms/step - loss: 794065.1875\n",
      "Epoch 44/100\n",
      "68/68 [==============================] - 0s 5ms/step - loss: 944834.3125\n",
      "Epoch 45/100\n",
      "68/68 [==============================] - 0s 5ms/step - loss: 961809.8750\n",
      "Epoch 46/100\n",
      "68/68 [==============================] - 0s 5ms/step - loss: 851593.0625\n",
      "Epoch 47/100\n",
      "68/68 [==============================] - 0s 5ms/step - loss: 915591.9375\n",
      "Epoch 48/100\n",
      "68/68 [==============================] - 0s 5ms/step - loss: 823414.5000\n",
      "Epoch 49/100\n",
      "68/68 [==============================] - 0s 5ms/step - loss: 813788.5625\n",
      "Epoch 50/100\n",
      "68/68 [==============================] - 0s 6ms/step - loss: 751993.7500\n",
      "Epoch 51/100\n",
      "68/68 [==============================] - 0s 5ms/step - loss: 798785.6250\n",
      "Epoch 52/100\n",
      "68/68 [==============================] - 0s 5ms/step - loss: 914510.5000\n",
      "Epoch 53/100\n",
      "68/68 [==============================] - 0s 5ms/step - loss: 775055.8750\n",
      "Epoch 54/100\n",
      "68/68 [==============================] - 0s 5ms/step - loss: 837602.2500\n",
      "Epoch 55/100\n",
      "68/68 [==============================] - 0s 5ms/step - loss: 1336462.1250\n",
      "Epoch 56/100\n",
      "68/68 [==============================] - 0s 5ms/step - loss: 606263.6875\n",
      "Epoch 57/100\n",
      "68/68 [==============================] - 0s 5ms/step - loss: 588204.5000\n",
      "Epoch 58/100\n",
      "68/68 [==============================] - 0s 5ms/step - loss: 801896.6875\n",
      "Epoch 59/100\n",
      "68/68 [==============================] - 0s 5ms/step - loss: 737578.1875\n",
      "Epoch 60/100\n",
      "68/68 [==============================] - 0s 5ms/step - loss: 665939.8750\n",
      "Epoch 61/100\n",
      "68/68 [==============================] - 0s 5ms/step - loss: 727547.8125\n",
      "Epoch 62/100\n",
      "68/68 [==============================] - 0s 5ms/step - loss: 584200.2500\n",
      "Epoch 63/100\n",
      "68/68 [==============================] - 0s 5ms/step - loss: 749763.1875\n",
      "Epoch 64/100\n",
      "68/68 [==============================] - 0s 5ms/step - loss: 655262.3750\n",
      "Epoch 65/100\n",
      "68/68 [==============================] - 0s 5ms/step - loss: 577502.3125\n",
      "Epoch 66/100\n",
      "68/68 [==============================] - 0s 5ms/step - loss: 738370.1250\n",
      "Epoch 67/100\n",
      "68/68 [==============================] - 0s 5ms/step - loss: 601580.4375\n",
      "Epoch 68/100\n",
      "68/68 [==============================] - 0s 5ms/step - loss: 791815.2500\n",
      "Epoch 69/100\n",
      "68/68 [==============================] - 0s 5ms/step - loss: 881847.4375\n",
      "Epoch 70/100\n",
      "68/68 [==============================] - 0s 4ms/step - loss: 579526.1875\n",
      "Epoch 71/100\n",
      "68/68 [==============================] - 0s 5ms/step - loss: 730420.6250\n",
      "Epoch 72/100\n",
      "68/68 [==============================] - 0s 5ms/step - loss: 597151.6875\n",
      "Epoch 73/100\n",
      "68/68 [==============================] - 0s 5ms/step - loss: 664911.6250\n",
      "Epoch 74/100\n",
      "68/68 [==============================] - 0s 4ms/step - loss: 571230.1875\n",
      "Epoch 75/100\n",
      "68/68 [==============================] - 0s 4ms/step - loss: 589497.3125\n",
      "Epoch 76/100\n",
      "68/68 [==============================] - 0s 4ms/step - loss: 642195.1875\n",
      "Epoch 77/100\n",
      "68/68 [==============================] - 0s 4ms/step - loss: 534730.8750\n",
      "Epoch 78/100\n",
      "68/68 [==============================] - 0s 4ms/step - loss: 602807.5000\n",
      "Epoch 79/100\n",
      "68/68 [==============================] - 0s 5ms/step - loss: 515875.4062\n",
      "Epoch 80/100\n",
      "68/68 [==============================] - 0s 5ms/step - loss: 513326.4688\n",
      "Epoch 81/100\n",
      "68/68 [==============================] - 0s 5ms/step - loss: 685228.1875\n",
      "Epoch 82/100\n",
      "68/68 [==============================] - 0s 4ms/step - loss: 557421.7500\n",
      "Epoch 83/100\n",
      "68/68 [==============================] - 0s 4ms/step - loss: 542434.2500\n",
      "Epoch 84/100\n",
      "68/68 [==============================] - 0s 5ms/step - loss: 500676.5312\n",
      "Epoch 85/100\n",
      "68/68 [==============================] - 0s 5ms/step - loss: 508403.1250\n",
      "Epoch 86/100\n",
      "68/68 [==============================] - 0s 4ms/step - loss: 1385182.8750\n",
      "Epoch 87/100\n",
      "68/68 [==============================] - 0s 5ms/step - loss: 1078487.0000\n",
      "Epoch 88/100\n",
      "68/68 [==============================] - 0s 4ms/step - loss: 641102.0000\n",
      "Epoch 89/100\n",
      "68/68 [==============================] - 0s 5ms/step - loss: 640626.4375\n",
      "Epoch 90/100\n",
      "68/68 [==============================] - 0s 4ms/step - loss: 490526.7188\n",
      "Epoch 91/100\n",
      "68/68 [==============================] - 0s 5ms/step - loss: 702966.0000\n",
      "Epoch 92/100\n",
      "68/68 [==============================] - 0s 5ms/step - loss: 581088.1875\n",
      "Epoch 93/100\n",
      "68/68 [==============================] - 0s 5ms/step - loss: 485341.6562\n",
      "Epoch 94/100\n",
      "68/68 [==============================] - 0s 4ms/step - loss: 529724.0000\n",
      "Epoch 95/100\n"
     ]
    },
    {
     "name": "stdout",
     "output_type": "stream",
     "text": [
      "68/68 [==============================] - 0s 4ms/step - loss: 596652.6875\n",
      "Epoch 96/100\n",
      "68/68 [==============================] - 0s 5ms/step - loss: 1024424.5625\n",
      "Epoch 97/100\n",
      "68/68 [==============================] - 0s 4ms/step - loss: 635437.0000\n",
      "Epoch 98/100\n",
      "68/68 [==============================] - 0s 4ms/step - loss: 725367.0625\n",
      "Epoch 99/100\n",
      "68/68 [==============================] - 0s 5ms/step - loss: 728140.5000\n",
      "Epoch 100/100\n",
      "68/68 [==============================] - 0s 6ms/step - loss: 613126.4375\n"
     ]
    },
    {
     "data": {
      "text/plain": [
       "<keras.callbacks.History at 0x20f6787dd48>"
      ]
     },
     "execution_count": 279,
     "metadata": {},
     "output_type": "execute_result"
    }
   ],
   "source": [
    "#Fitting model with generated sequence data.\n",
    "model.fit(train_g,epochs=100)"
   ]
  },
  {
   "cell_type": "code",
   "execution_count": 280,
   "metadata": {},
   "outputs": [],
   "source": [
    "#Converting test data into sequense\n",
    "test_g=TimeseriesGenerator(test.sales,test.sales,length=12,batch_size=1)"
   ]
  },
  {
   "cell_type": "code",
   "execution_count": 281,
   "metadata": {},
   "outputs": [
    {
     "data": {
      "text/plain": [
       "<matplotlib.legend.Legend at 0x20f73dd5908>"
      ]
     },
     "execution_count": 281,
     "metadata": {},
     "output_type": "execute_result"
    },
    {
     "data": {
      "image/png": "[encoded data removed]",
      "text/plain": [
       "<Figure size 432x288 with 1 Axes>"
      ]
     },
     "metadata": {
      "needs_background": "light"
     },
     "output_type": "display_data"
    }
   ],
   "source": [
    "#Prediction \n",
    "pred=model.predict(test_g)\n",
    "plt.plot(test['sales'][12:].reset_index(drop=True))\n",
    "plt.plot(pred)\n",
    "plt.legend(['test','pred'])"
   ]
  },
  {
   "cell_type": "code",
   "execution_count": 284,
   "metadata": {},
   "outputs": [],
   "source": [
    "#Scaling \n",
    "from sklearn.preprocessing import StandardScaler\n",
    "scaler=StandardScaler()\n",
    "train_sc=scaler.fit(train)\n",
    "train_sc=scaler.transform(train)\n",
    "test_sc=scaler.transform(test)"
   ]
  },
  {
   "cell_type": "code",
   "execution_count": 288,
   "metadata": {},
   "outputs": [
    {
     "name": "stdout",
     "output_type": "stream",
     "text": [
      "Independent:  [[[-0.70335456]\n",
      "  [-0.76354769]\n",
      "  [-0.72861042]\n",
      "  [-0.74292207]\n",
      "  [-0.64821261]\n",
      "  [-0.61032882]\n",
      "  [-0.92771076]\n",
      "  [-0.95717592]\n",
      "  [-0.65831495]\n",
      "  [-0.07785118]\n",
      "  [ 0.53797079]\n",
      "  [ 1.1895719 ]]]\n",
      "Dependent:  [[-0.81868964]]\n",
      "Independent:  [[[-0.76354769]\n",
      "  [-0.72861042]\n",
      "  [-0.74292207]\n",
      "  [-0.64821261]\n",
      "  [-0.61032882]\n",
      "  [-0.92771076]\n",
      "  [-0.95717592]\n",
      "  [-0.65831495]\n",
      "  [-0.07785118]\n",
      "  [ 0.53797079]\n",
      "  [ 1.1895719 ]\n",
      "  [-0.81868964]]]\n",
      "Dependent:  [[-0.84647108]]\n"
     ]
    }
   ],
   "source": [
    "#TimeseriesGenerator\n",
    "from keras.preprocessing.sequence import TimeseriesGenerator\n",
    "train_g=TimeseriesGenerator(train_sc,train_sc,length=12,batch_size=1)\n",
    "print('Independent: ',train_g[0][0])\n",
    "print('Dependent: ',train_g[0][1])\n",
    "print('Independent: ',train_g[1][0])\n",
    "print('Dependent: ',train_g[1][1])"
   ]
  },
  {
   "cell_type": "code",
   "execution_count": 302,
   "metadata": {},
   "outputs": [
    {
     "name": "stdout",
     "output_type": "stream",
     "text": [
      "Model: \"sequential_21\"\n",
      "_________________________________________________________________\n",
      " Layer (type)                Output Shape              Param #   \n",
      "=================================================================\n",
      " lstm_20 (LSTM)              (None, 500)               1004000   \n",
      "                                                                 \n",
      " dense_19 (Dense)            (None, 1)                 501       \n",
      "                                                                 \n",
      "=================================================================\n",
      "Total params: 1,004,501\n",
      "Trainable params: 1,004,501\n",
      "Non-trainable params: 0\n",
      "_________________________________________________________________\n"
     ]
    }
   ],
   "source": [
    "#Model building\n",
    "input_shape=(12,1)\n",
    "model=Sequential()\n",
    "model.add(LSTM(500,activation='relu',input_shape=input_shape))\n",
    "model.add(Dense(1))\n",
    "\n",
    "#Model compilation\n",
    "model.compile(optimizer='adam',loss='mse')\n",
    "\n",
    "#Model summary\n",
    "model.build(input_shape)\n",
    "model.summary()"
   ]
  },
  {
   "cell_type": "code",
   "execution_count": 303,
   "metadata": {},
   "outputs": [
    {
     "name": "stdout",
     "output_type": "stream",
     "text": [
      "Epoch 1/200\n",
      "68/68 [==============================] - 6s 52ms/step - loss: 1.1192\n",
      "Epoch 2/200\n",
      "68/68 [==============================] - 4s 53ms/step - loss: 1.0097\n",
      "Epoch 3/200\n",
      "68/68 [==============================] - 4s 53ms/step - loss: 0.9720\n",
      "Epoch 4/200\n",
      "68/68 [==============================] - 4s 53ms/step - loss: 1.0123\n",
      "Epoch 5/200\n",
      "68/68 [==============================] - 4s 53ms/step - loss: 10.0046\n",
      "Epoch 6/200\n",
      "68/68 [==============================] - 4s 54ms/step - loss: 0.7415\n",
      "Epoch 7/200\n",
      "68/68 [==============================] - 4s 54ms/step - loss: 0.5962\n",
      "Epoch 8/200\n",
      "68/68 [==============================] - 4s 54ms/step - loss: 0.2962\n",
      "Epoch 9/200\n",
      "68/68 [==============================] - 4s 54ms/step - loss: 0.4427\n",
      "Epoch 10/200\n",
      "68/68 [==============================] - 4s 55ms/step - loss: 0.4158\n",
      "Epoch 11/200\n",
      "68/68 [==============================] - 4s 55ms/step - loss: 0.2276\n",
      "Epoch 12/200\n",
      "68/68 [==============================] - 4s 54ms/step - loss: 0.2215\n",
      "Epoch 13/200\n",
      "68/68 [==============================] - 4s 54ms/step - loss: 0.1162\n",
      "Epoch 14/200\n",
      "68/68 [==============================] - 4s 55ms/step - loss: 0.1030\n",
      "Epoch 15/200\n",
      "68/68 [==============================] - 4s 55ms/step - loss: 0.0894\n",
      "Epoch 16/200\n",
      "68/68 [==============================] - 4s 55ms/step - loss: 0.0720\n",
      "Epoch 17/200\n",
      "68/68 [==============================] - 4s 55ms/step - loss: 0.0683\n",
      "Epoch 18/200\n",
      "68/68 [==============================] - 4s 54ms/step - loss: 0.0752\n",
      "Epoch 19/200\n",
      "68/68 [==============================] - 4s 54ms/step - loss: 0.0572\n",
      "Epoch 20/200\n",
      "68/68 [==============================] - 4s 52ms/step - loss: 0.0780\n",
      "Epoch 21/200\n",
      "68/68 [==============================] - 3s 49ms/step - loss: 0.0574\n",
      "Epoch 22/200\n",
      "68/68 [==============================] - 3s 50ms/step - loss: 0.0585\n",
      "Epoch 23/200\n",
      "68/68 [==============================] - 3s 49ms/step - loss: 0.0555\n",
      "Epoch 24/200\n",
      "68/68 [==============================] - 3s 49ms/step - loss: 0.0665\n",
      "Epoch 25/200\n",
      "68/68 [==============================] - 3s 49ms/step - loss: 0.0959\n",
      "Epoch 26/200\n",
      "68/68 [==============================] - 3s 49ms/step - loss: 0.1164\n",
      "Epoch 27/200\n",
      "68/68 [==============================] - 4s 53ms/step - loss: 0.0644\n",
      "Epoch 28/200\n",
      "68/68 [==============================] - 4s 53ms/step - loss: 0.0476\n",
      "Epoch 29/200\n",
      "68/68 [==============================] - 3s 50ms/step - loss: 0.0484\n",
      "Epoch 30/200\n",
      "68/68 [==============================] - 3s 51ms/step - loss: 0.0513\n",
      "Epoch 31/200\n",
      "68/68 [==============================] - 4s 53ms/step - loss: 0.0678\n",
      "Epoch 32/200\n",
      "68/68 [==============================] - 3s 50ms/step - loss: 0.0581\n",
      "Epoch 33/200\n",
      "68/68 [==============================] - 3s 49ms/step - loss: 0.0454\n",
      "Epoch 34/200\n",
      "68/68 [==============================] - 3s 49ms/step - loss: 0.0505\n",
      "Epoch 35/200\n",
      "68/68 [==============================] - 4s 54ms/step - loss: 0.0548\n",
      "Epoch 36/200\n",
      "68/68 [==============================] - 3s 50ms/step - loss: 0.0766\n",
      "Epoch 37/200\n",
      "68/68 [==============================] - 3s 50ms/step - loss: 0.1331\n",
      "Epoch 38/200\n",
      "68/68 [==============================] - 4s 52ms/step - loss: 0.0516\n",
      "Epoch 39/200\n",
      "68/68 [==============================] - 3s 49ms/step - loss: 0.0513\n",
      "Epoch 40/200\n",
      "68/68 [==============================] - 3s 49ms/step - loss: 0.0718\n",
      "Epoch 41/200\n",
      "68/68 [==============================] - 3s 49ms/step - loss: 0.0633\n",
      "Epoch 42/200\n",
      "68/68 [==============================] - 3s 49ms/step - loss: 0.0426\n",
      "Epoch 43/200\n",
      "68/68 [==============================] - 3s 48ms/step - loss: 0.0450\n",
      "Epoch 44/200\n",
      "68/68 [==============================] - 3s 49ms/step - loss: 0.0562\n",
      "Epoch 45/200\n",
      "68/68 [==============================] - 3s 49ms/step - loss: 0.0601\n",
      "Epoch 46/200\n",
      "68/68 [==============================] - 3s 49ms/step - loss: 0.0463\n",
      "Epoch 47/200\n",
      "68/68 [==============================] - 3s 50ms/step - loss: 0.0482\n",
      "Epoch 48/200\n",
      "68/68 [==============================] - 4s 57ms/step - loss: 0.0614\n",
      "Epoch 49/200\n",
      "68/68 [==============================] - 4s 59ms/step - loss: 0.0443\n",
      "Epoch 50/200\n",
      "68/68 [==============================] - 4s 54ms/step - loss: 0.0399\n",
      "Epoch 51/200\n",
      "68/68 [==============================] - 4s 54ms/step - loss: 0.0419\n",
      "Epoch 52/200\n",
      "68/68 [==============================] - 4s 55ms/step - loss: 0.0471\n",
      "Epoch 53/200\n",
      "68/68 [==============================] - 4s 56ms/step - loss: 0.0469\n",
      "Epoch 54/200\n",
      "68/68 [==============================] - 4s 54ms/step - loss: 0.0391\n",
      "Epoch 55/200\n",
      "68/68 [==============================] - 4s 55ms/step - loss: 0.0399\n",
      "Epoch 56/200\n",
      "68/68 [==============================] - 4s 54ms/step - loss: 0.0387\n",
      "Epoch 57/200\n",
      "68/68 [==============================] - 4s 54ms/step - loss: 0.0667\n",
      "Epoch 58/200\n",
      "68/68 [==============================] - 4s 56ms/step - loss: 0.0416\n",
      "Epoch 59/200\n",
      "68/68 [==============================] - 4s 54ms/step - loss: 0.0401\n",
      "Epoch 60/200\n",
      "68/68 [==============================] - 4s 54ms/step - loss: 0.0440\n",
      "Epoch 61/200\n",
      "68/68 [==============================] - 4s 54ms/step - loss: 0.0644\n",
      "Epoch 62/200\n",
      "68/68 [==============================] - 4s 54ms/step - loss: 0.0360\n",
      "Epoch 63/200\n",
      "68/68 [==============================] - 4s 54ms/step - loss: 0.0366\n",
      "Epoch 64/200\n",
      "68/68 [==============================] - 4s 55ms/step - loss: 0.0341\n",
      "Epoch 65/200\n",
      "68/68 [==============================] - 4s 54ms/step - loss: 0.0309\n",
      "Epoch 66/200\n",
      "68/68 [==============================] - 4s 54ms/step - loss: 0.0297\n",
      "Epoch 67/200\n",
      "68/68 [==============================] - 4s 55ms/step - loss: 0.0441\n",
      "Epoch 68/200\n",
      "68/68 [==============================] - 4s 54ms/step - loss: 0.0696\n",
      "Epoch 69/200\n",
      "68/68 [==============================] - 4s 55ms/step - loss: 0.1251\n",
      "Epoch 70/200\n",
      "68/68 [==============================] - 4s 54ms/step - loss: 0.0480\n",
      "Epoch 71/200\n",
      "68/68 [==============================] - 4s 54ms/step - loss: 0.0714\n",
      "Epoch 72/200\n",
      "68/68 [==============================] - 4s 54ms/step - loss: 0.0324\n",
      "Epoch 73/200\n",
      "68/68 [==============================] - 4s 54ms/step - loss: 0.0387\n",
      "Epoch 74/200\n",
      "68/68 [==============================] - 4s 54ms/step - loss: 0.0361\n",
      "Epoch 75/200\n",
      "68/68 [==============================] - 4s 54ms/step - loss: 0.0317\n",
      "Epoch 76/200\n",
      "68/68 [==============================] - 4s 54ms/step - loss: 0.0395\n",
      "Epoch 77/200\n",
      "68/68 [==============================] - 4s 55ms/step - loss: 0.0314\n",
      "Epoch 78/200\n",
      "68/68 [==============================] - 4s 53ms/step - loss: 0.2041\n",
      "Epoch 79/200\n",
      "68/68 [==============================] - 4s 54ms/step - loss: 0.4549\n",
      "Epoch 80/200\n",
      "68/68 [==============================] - 4s 53ms/step - loss: 0.2754\n",
      "Epoch 81/200\n",
      "68/68 [==============================] - 4s 53ms/step - loss: 0.1254\n",
      "Epoch 82/200\n",
      "68/68 [==============================] - 4s 54ms/step - loss: 0.0795\n",
      "Epoch 83/200\n",
      "68/68 [==============================] - 4s 54ms/step - loss: 0.0756\n",
      "Epoch 84/200\n",
      "68/68 [==============================] - 4s 54ms/step - loss: 0.0660\n",
      "Epoch 85/200\n",
      "68/68 [==============================] - 4s 53ms/step - loss: 0.0870\n",
      "Epoch 86/200\n",
      "68/68 [==============================] - 4s 54ms/step - loss: 0.0519\n",
      "Epoch 87/200\n",
      "68/68 [==============================] - 4s 53ms/step - loss: 0.0627\n",
      "Epoch 88/200\n",
      "68/68 [==============================] - 4s 53ms/step - loss: 0.0453\n",
      "Epoch 89/200\n",
      "68/68 [==============================] - 4s 55ms/step - loss: 0.0836\n",
      "Epoch 90/200\n",
      "68/68 [==============================] - 4s 54ms/step - loss: 0.0505\n",
      "Epoch 91/200\n",
      "68/68 [==============================] - 4s 54ms/step - loss: 0.0521\n",
      "Epoch 92/200\n",
      "68/68 [==============================] - 4s 54ms/step - loss: 0.0470\n",
      "Epoch 93/200\n",
      "68/68 [==============================] - 4s 53ms/step - loss: 0.0484\n",
      "Epoch 94/200\n",
      "68/68 [==============================] - 4s 54ms/step - loss: 0.0578\n",
      "Epoch 95/200\n",
      "68/68 [==============================] - 4s 53ms/step - loss: 0.0610\n",
      "Epoch 96/200\n",
      "68/68 [==============================] - 4s 54ms/step - loss: 0.0500\n",
      "Epoch 97/200\n",
      "68/68 [==============================] - 4s 53ms/step - loss: 0.0400\n",
      "Epoch 98/200\n",
      "68/68 [==============================] - 4s 53ms/step - loss: 0.0433\n",
      "Epoch 99/200\n",
      "68/68 [==============================] - 4s 53ms/step - loss: 0.0378\n",
      "Epoch 100/200\n",
      "68/68 [==============================] - 4s 53ms/step - loss: 0.0370\n"
     ]
    },
    {
     "name": "stdout",
     "output_type": "stream",
     "text": [
      "Epoch 101/200\n",
      "68/68 [==============================] - 4s 54ms/step - loss: 0.0438\n",
      "Epoch 102/200\n",
      "68/68 [==============================] - 4s 54ms/step - loss: 0.1136\n",
      "Epoch 103/200\n",
      "68/68 [==============================] - 4s 54ms/step - loss: 0.0441\n",
      "Epoch 104/200\n",
      "68/68 [==============================] - 4s 54ms/step - loss: 0.0388\n",
      "Epoch 105/200\n",
      "68/68 [==============================] - 4s 54ms/step - loss: 0.0400\n",
      "Epoch 106/200\n",
      "68/68 [==============================] - 4s 55ms/step - loss: 0.0377\n",
      "Epoch 107/200\n",
      "68/68 [==============================] - 4s 54ms/step - loss: 0.0411\n",
      "Epoch 108/200\n",
      "68/68 [==============================] - 4s 54ms/step - loss: 0.0344\n",
      "Epoch 109/200\n",
      "68/68 [==============================] - 4s 54ms/step - loss: 0.0352\n",
      "Epoch 110/200\n",
      "68/68 [==============================] - 4s 54ms/step - loss: 0.0510\n",
      "Epoch 111/200\n",
      "68/68 [==============================] - 4s 56ms/step - loss: 0.0307\n",
      "Epoch 112/200\n",
      "68/68 [==============================] - 4s 56ms/step - loss: 0.0331\n",
      "Epoch 113/200\n",
      "68/68 [==============================] - 4s 54ms/step - loss: 0.0320\n",
      "Epoch 114/200\n",
      "68/68 [==============================] - 4s 54ms/step - loss: 0.0273\n",
      "Epoch 115/200\n",
      "68/68 [==============================] - 4s 54ms/step - loss: 0.0354\n",
      "Epoch 116/200\n",
      "68/68 [==============================] - 4s 54ms/step - loss: 0.0616\n",
      "Epoch 117/200\n",
      "68/68 [==============================] - 4s 54ms/step - loss: 0.0535\n",
      "Epoch 118/200\n",
      "68/68 [==============================] - 4s 54ms/step - loss: 0.0308\n",
      "Epoch 119/200\n",
      "68/68 [==============================] - 4s 55ms/step - loss: 0.0319\n",
      "Epoch 120/200\n",
      "68/68 [==============================] - 4s 54ms/step - loss: 0.0377\n",
      "Epoch 121/200\n",
      "68/68 [==============================] - 4s 55ms/step - loss: 0.0260\n",
      "Epoch 122/200\n",
      "68/68 [==============================] - 4s 54ms/step - loss: 0.0322\n",
      "Epoch 123/200\n",
      "68/68 [==============================] - 4s 55ms/step - loss: 0.0288\n",
      "Epoch 124/200\n",
      "68/68 [==============================] - 4s 57ms/step - loss: 0.0294\n",
      "Epoch 125/200\n",
      "68/68 [==============================] - 4s 55ms/step - loss: 0.0444\n",
      "Epoch 126/200\n",
      "68/68 [==============================] - 4s 55ms/step - loss: 0.0336\n",
      "Epoch 127/200\n",
      "68/68 [==============================] - 4s 55ms/step - loss: 0.0726\n",
      "Epoch 128/200\n",
      "68/68 [==============================] - 4s 55ms/step - loss: 0.0335\n",
      "Epoch 129/200\n",
      "68/68 [==============================] - 4s 55ms/step - loss: 0.0303\n",
      "Epoch 130/200\n",
      "68/68 [==============================] - 4s 55ms/step - loss: 0.0233\n",
      "Epoch 131/200\n",
      "68/68 [==============================] - 4s 55ms/step - loss: 0.0247\n",
      "Epoch 132/200\n",
      "68/68 [==============================] - 4s 55ms/step - loss: 0.0370\n",
      "Epoch 133/200\n",
      "68/68 [==============================] - 4s 56ms/step - loss: 0.0753\n",
      "Epoch 134/200\n",
      "68/68 [==============================] - 4s 55ms/step - loss: 0.0309\n",
      "Epoch 135/200\n",
      "68/68 [==============================] - 4s 55ms/step - loss: 0.0584\n",
      "Epoch 136/200\n",
      "68/68 [==============================] - 4s 56ms/step - loss: 0.0958\n",
      "Epoch 137/200\n",
      "68/68 [==============================] - 4s 55ms/step - loss: 0.0378\n",
      "Epoch 138/200\n",
      "68/68 [==============================] - 4s 55ms/step - loss: 0.0268\n",
      "Epoch 139/200\n",
      "68/68 [==============================] - 4s 55ms/step - loss: 0.0285\n",
      "Epoch 140/200\n",
      "68/68 [==============================] - 4s 55ms/step - loss: 0.0254\n",
      "Epoch 141/200\n",
      "68/68 [==============================] - 4s 55ms/step - loss: 0.0195\n",
      "Epoch 142/200\n",
      "68/68 [==============================] - 4s 55ms/step - loss: 0.0195\n",
      "Epoch 143/200\n",
      "68/68 [==============================] - 4s 55ms/step - loss: 0.0247\n",
      "Epoch 144/200\n",
      "68/68 [==============================] - 4s 55ms/step - loss: 0.0366\n",
      "Epoch 145/200\n",
      "68/68 [==============================] - 4s 55ms/step - loss: 0.0445\n",
      "Epoch 146/200\n",
      "68/68 [==============================] - 4s 55ms/step - loss: 0.0299\n",
      "Epoch 147/200\n",
      "68/68 [==============================] - 4s 55ms/step - loss: 0.0415\n",
      "Epoch 148/200\n",
      "68/68 [==============================] - 4s 55ms/step - loss: 0.0455\n",
      "Epoch 149/200\n",
      "68/68 [==============================] - 4s 55ms/step - loss: 0.0319\n",
      "Epoch 150/200\n",
      "68/68 [==============================] - 4s 55ms/step - loss: 0.0297\n",
      "Epoch 151/200\n",
      "68/68 [==============================] - 4s 55ms/step - loss: 0.0185\n",
      "Epoch 152/200\n",
      "68/68 [==============================] - 4s 54ms/step - loss: 0.0369\n",
      "Epoch 153/200\n",
      "68/68 [==============================] - 4s 55ms/step - loss: 0.0323\n",
      "Epoch 154/200\n",
      "68/68 [==============================] - 4s 54ms/step - loss: 0.0244\n",
      "Epoch 155/200\n",
      "68/68 [==============================] - 4s 54ms/step - loss: 0.0222\n",
      "Epoch 156/200\n",
      "68/68 [==============================] - 4s 55ms/step - loss: 0.0248\n",
      "Epoch 157/200\n",
      "68/68 [==============================] - 4s 54ms/step - loss: 0.0189\n",
      "Epoch 158/200\n",
      "68/68 [==============================] - 4s 54ms/step - loss: 0.0212\n",
      "Epoch 159/200\n",
      "68/68 [==============================] - 4s 54ms/step - loss: 0.0280\n",
      "Epoch 160/200\n",
      "68/68 [==============================] - 4s 54ms/step - loss: 0.0227\n",
      "Epoch 161/200\n",
      "68/68 [==============================] - 4s 54ms/step - loss: 0.0226\n",
      "Epoch 162/200\n",
      "68/68 [==============================] - 4s 54ms/step - loss: 0.0209\n",
      "Epoch 163/200\n",
      "68/68 [==============================] - 4s 54ms/step - loss: 0.0255\n",
      "Epoch 164/200\n",
      "68/68 [==============================] - 4s 54ms/step - loss: 0.0323\n",
      "Epoch 165/200\n",
      "68/68 [==============================] - 4s 54ms/step - loss: 0.0524\n",
      "Epoch 166/200\n",
      "68/68 [==============================] - 4s 54ms/step - loss: 0.0217\n",
      "Epoch 167/200\n",
      "68/68 [==============================] - 4s 53ms/step - loss: 0.0286\n",
      "Epoch 168/200\n",
      "68/68 [==============================] - 4s 54ms/step - loss: 0.0288\n",
      "Epoch 169/200\n",
      "68/68 [==============================] - 4s 54ms/step - loss: 0.0237\n",
      "Epoch 170/200\n",
      "68/68 [==============================] - 4s 54ms/step - loss: 0.0198\n",
      "Epoch 171/200\n",
      "68/68 [==============================] - 4s 54ms/step - loss: 0.0217\n",
      "Epoch 172/200\n",
      "68/68 [==============================] - 4s 54ms/step - loss: 0.0306\n",
      "Epoch 173/200\n",
      "68/68 [==============================] - 4s 54ms/step - loss: 0.0183\n",
      "Epoch 174/200\n",
      "68/68 [==============================] - 4s 54ms/step - loss: 0.0248\n",
      "Epoch 175/200\n",
      "68/68 [==============================] - 4s 54ms/step - loss: 0.0457\n",
      "Epoch 176/200\n",
      "68/68 [==============================] - 4s 54ms/step - loss: 0.0234\n",
      "Epoch 177/200\n",
      "68/68 [==============================] - 4s 53ms/step - loss: 0.0246\n",
      "Epoch 178/200\n",
      "68/68 [==============================] - 4s 53ms/step - loss: 0.0255\n",
      "Epoch 179/200\n",
      "68/68 [==============================] - 4s 55ms/step - loss: 0.0177\n",
      "Epoch 180/200\n",
      "68/68 [==============================] - 4s 60ms/step - loss: 0.0163\n",
      "Epoch 181/200\n",
      "68/68 [==============================] - 4s 54ms/step - loss: 0.0152\n",
      "Epoch 182/200\n",
      "68/68 [==============================] - 4s 53ms/step - loss: 0.0169\n",
      "Epoch 183/200\n",
      "68/68 [==============================] - 4s 53ms/step - loss: 0.0151\n",
      "Epoch 184/200\n",
      "68/68 [==============================] - 4s 54ms/step - loss: 0.0141\n",
      "Epoch 185/200\n",
      "68/68 [==============================] - 4s 53ms/step - loss: 0.0212\n",
      "Epoch 186/200\n",
      "68/68 [==============================] - 4s 53ms/step - loss: 0.0748\n",
      "Epoch 187/200\n",
      "68/68 [==============================] - 4s 54ms/step - loss: 0.0702\n",
      "Epoch 188/200\n",
      "68/68 [==============================] - 4s 54ms/step - loss: 0.0565\n",
      "Epoch 189/200\n",
      "68/68 [==============================] - 4s 54ms/step - loss: 0.0452\n",
      "Epoch 190/200\n",
      "68/68 [==============================] - 4s 53ms/step - loss: 0.0465\n",
      "Epoch 191/200\n",
      "68/68 [==============================] - 4s 53ms/step - loss: 0.0332\n",
      "Epoch 192/200\n",
      "68/68 [==============================] - 4s 55ms/step - loss: 0.0210\n",
      "Epoch 193/200\n",
      "68/68 [==============================] - 4s 55ms/step - loss: 0.0199\n",
      "Epoch 194/200\n",
      "68/68 [==============================] - 4s 53ms/step - loss: 0.0169\n",
      "Epoch 195/200\n",
      "68/68 [==============================] - 4s 53ms/step - loss: 0.0203\n",
      "Epoch 196/200\n",
      "68/68 [==============================] - 4s 53ms/step - loss: 0.0240\n",
      "Epoch 197/200\n",
      "68/68 [==============================] - 4s 53ms/step - loss: 0.0178\n",
      "Epoch 198/200\n",
      "68/68 [==============================] - 4s 53ms/step - loss: 0.0132\n",
      "Epoch 199/200\n"
     ]
    },
    {
     "name": "stdout",
     "output_type": "stream",
     "text": [
      "68/68 [==============================] - 4s 54ms/step - loss: 0.0113\n",
      "Epoch 200/200\n",
      "68/68 [==============================] - 4s 54ms/step - loss: 0.0107\n"
     ]
    },
    {
     "data": {
      "text/plain": [
       "<keras.callbacks.History at 0x20f74960b48>"
      ]
     },
     "execution_count": 303,
     "metadata": {},
     "output_type": "execute_result"
    }
   ],
   "source": [
    "model.fit(train_g,epochs=200)"
   ]
  },
  {
   "cell_type": "code",
   "execution_count": 304,
   "metadata": {},
   "outputs": [
    {
     "data": {
      "text/plain": [
       "(array([[[ 2.65904182],\n",
       "         [ 3.96939985],\n",
       "         [-0.77743841],\n",
       "         [-0.66799636],\n",
       "         [-0.46973789],\n",
       "         [-0.31399344],\n",
       "         [-0.6562103 ],\n",
       "         [-0.21044443],\n",
       "         [-0.11320938],\n",
       "         [-1.15669719],\n",
       "         [ 0.30940529],\n",
       "         [ 0.81578522]]]), array([[2.25452719]]))"
      ]
     },
     "execution_count": 304,
     "metadata": {},
     "output_type": "execute_result"
    }
   ],
   "source": [
    "#test data sequence\n",
    "test_sc_g=TimeseriesGenerator(test_sc,test_sc,length=12,batch_size=1)\n",
    "test_sc_g[0]"
   ]
  },
  {
   "cell_type": "code",
   "execution_count": 305,
   "metadata": {},
   "outputs": [
    {
     "data": {
      "text/plain": [
       "<matplotlib.legend.Legend at 0x20f748d5248>"
      ]
     },
     "execution_count": 305,
     "metadata": {},
     "output_type": "execute_result"
    },
    {
     "data": {
      "image/png": "[encoded data removed]",
      "text/plain": [
       "<Figure size 432x288 with 1 Axes>"
      ]
     },
     "metadata": {
      "needs_background": "light"
     },
     "output_type": "display_data"
    }
   ],
   "source": [
    "#Prediction and inverse_transform to get sales value.\n",
    "pred=scaler.inverse_transform(model.predict(test_sc_g))\n",
    "plt.plot(test[12:].reset_index(drop=True))\n",
    "plt.plot(pred)\n",
    "plt.legend(['test','pred'])"
   ]
  },
  {
   "cell_type": "code",
   "execution_count": null,
   "metadata": {},
   "outputs": [],
   "source": []
  }
 ],
 "metadata": {
  "kernelspec": {
   "display_name": "Python 3",
   "language": "python",
   "name": "python3"
  },
  "language_info": {
   "codemirror_mode": {
    "name": "ipython",
    "version": 3
   },
   "file_extension": ".py",
   "mimetype": "text/x-python",
   "name": "python",
   "nbconvert_exporter": "python",
   "pygments_lexer": "ipython3",
   "version": "3.7.4"
  }
 },
 "nbformat": 4,
 "nbformat_minor": 2
}
